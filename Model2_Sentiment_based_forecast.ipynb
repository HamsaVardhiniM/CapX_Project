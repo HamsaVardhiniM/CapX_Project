{
 "cells": [
  {
   "cell_type": "markdown",
   "id": "f5383c4b",
   "metadata": {},
   "source": [
    "## Model2 : Multiple tree based and regression  models are trained and the best one is selected"
   ]
  },
  {
   "cell_type": "markdown",
   "id": "213717ed",
   "metadata": {},
   "source": [
    "### Model2 takes into consideration the stock name, associated sentiment, subjectivity of the post, topic and other significant factors for prediction"
   ]
  },
  {
   "cell_type": "code",
   "execution_count": 2,
   "id": "fd87fbcf",
   "metadata": {},
   "outputs": [],
   "source": [
    "import pandas as pd\n",
    "import numpy as np"
   ]
  },
  {
   "cell_type": "code",
   "execution_count": 3,
   "id": "612772f0",
   "metadata": {},
   "outputs": [],
   "source": [
    "df=pd.read_csv(\"Preprocessed_final_data.csv\")"
   ]
  },
  {
   "cell_type": "code",
   "execution_count": 4,
   "id": "55380112",
   "metadata": {},
   "outputs": [
    {
     "data": {
      "text/html": [
       "<div>\n",
       "<style scoped>\n",
       "    .dataframe tbody tr th:only-of-type {\n",
       "        vertical-align: middle;\n",
       "    }\n",
       "\n",
       "    .dataframe tbody tr th {\n",
       "        vertical-align: top;\n",
       "    }\n",
       "\n",
       "    .dataframe thead th {\n",
       "        text-align: right;\n",
       "    }\n",
       "</style>\n",
       "<table border=\"1\" class=\"dataframe\">\n",
       "  <thead>\n",
       "    <tr style=\"text-align: right;\">\n",
       "      <th></th>\n",
       "      <th>sentiment_score</th>\n",
       "      <th>Open</th>\n",
       "      <th>High</th>\n",
       "      <th>Low</th>\n",
       "      <th>Close</th>\n",
       "      <th>Volume</th>\n",
       "      <th>Dividends</th>\n",
       "      <th>Stock Splits</th>\n",
       "      <th>sentiment_score_average</th>\n",
       "      <th>subjectivity</th>\n",
       "      <th>...</th>\n",
       "      <th>Stock_AAPL</th>\n",
       "      <th>Stock_AMZN</th>\n",
       "      <th>Stock_GOOGL</th>\n",
       "      <th>Stock_MSFT</th>\n",
       "      <th>Stock_TSLA</th>\n",
       "      <th>Year</th>\n",
       "      <th>Month</th>\n",
       "      <th>Day</th>\n",
       "      <th>Weekday</th>\n",
       "      <th>Quarter</th>\n",
       "    </tr>\n",
       "  </thead>\n",
       "  <tbody>\n",
       "    <tr>\n",
       "      <th>0</th>\n",
       "      <td>0.104167</td>\n",
       "      <td>234.809998</td>\n",
       "      <td>237.809998</td>\n",
       "      <td>233.970001</td>\n",
       "      <td>237.330002</td>\n",
       "      <td>28481400.0</td>\n",
       "      <td>0.00</td>\n",
       "      <td>0.0</td>\n",
       "      <td>0.122917</td>\n",
       "      <td>0.225000</td>\n",
       "      <td>...</td>\n",
       "      <td>1</td>\n",
       "      <td>0</td>\n",
       "      <td>0</td>\n",
       "      <td>0</td>\n",
       "      <td>0</td>\n",
       "      <td>2024</td>\n",
       "      <td>11</td>\n",
       "      <td>29</td>\n",
       "      <td>4</td>\n",
       "      <td>4</td>\n",
       "    </tr>\n",
       "    <tr>\n",
       "      <th>1</th>\n",
       "      <td>0.141667</td>\n",
       "      <td>234.809998</td>\n",
       "      <td>237.809998</td>\n",
       "      <td>233.970001</td>\n",
       "      <td>237.330002</td>\n",
       "      <td>28481400.0</td>\n",
       "      <td>0.00</td>\n",
       "      <td>0.0</td>\n",
       "      <td>0.122917</td>\n",
       "      <td>0.341667</td>\n",
       "      <td>...</td>\n",
       "      <td>1</td>\n",
       "      <td>0</td>\n",
       "      <td>0</td>\n",
       "      <td>0</td>\n",
       "      <td>0</td>\n",
       "      <td>2024</td>\n",
       "      <td>11</td>\n",
       "      <td>29</td>\n",
       "      <td>4</td>\n",
       "      <td>4</td>\n",
       "    </tr>\n",
       "    <tr>\n",
       "      <th>2</th>\n",
       "      <td>0.104167</td>\n",
       "      <td>228.059998</td>\n",
       "      <td>230.720001</td>\n",
       "      <td>228.059998</td>\n",
       "      <td>229.869995</td>\n",
       "      <td>38168300.0</td>\n",
       "      <td>0.00</td>\n",
       "      <td>0.0</td>\n",
       "      <td>0.104167</td>\n",
       "      <td>0.225000</td>\n",
       "      <td>...</td>\n",
       "      <td>1</td>\n",
       "      <td>0</td>\n",
       "      <td>0</td>\n",
       "      <td>0</td>\n",
       "      <td>0</td>\n",
       "      <td>2024</td>\n",
       "      <td>11</td>\n",
       "      <td>22</td>\n",
       "      <td>4</td>\n",
       "      <td>4</td>\n",
       "    </tr>\n",
       "    <tr>\n",
       "      <th>3</th>\n",
       "      <td>0.104167</td>\n",
       "      <td>226.399994</td>\n",
       "      <td>226.919998</td>\n",
       "      <td>224.270004</td>\n",
       "      <td>225.000000</td>\n",
       "      <td>47923700.0</td>\n",
       "      <td>0.00</td>\n",
       "      <td>0.0</td>\n",
       "      <td>0.104167</td>\n",
       "      <td>0.225000</td>\n",
       "      <td>...</td>\n",
       "      <td>1</td>\n",
       "      <td>0</td>\n",
       "      <td>0</td>\n",
       "      <td>0</td>\n",
       "      <td>0</td>\n",
       "      <td>2024</td>\n",
       "      <td>11</td>\n",
       "      <td>15</td>\n",
       "      <td>4</td>\n",
       "      <td>4</td>\n",
       "    </tr>\n",
       "    <tr>\n",
       "      <th>4</th>\n",
       "      <td>0.104167</td>\n",
       "      <td>227.169998</td>\n",
       "      <td>228.660004</td>\n",
       "      <td>226.410004</td>\n",
       "      <td>226.960007</td>\n",
       "      <td>38328800.0</td>\n",
       "      <td>0.25</td>\n",
       "      <td>0.0</td>\n",
       "      <td>0.113826</td>\n",
       "      <td>0.225000</td>\n",
       "      <td>...</td>\n",
       "      <td>1</td>\n",
       "      <td>0</td>\n",
       "      <td>0</td>\n",
       "      <td>0</td>\n",
       "      <td>0</td>\n",
       "      <td>2024</td>\n",
       "      <td>11</td>\n",
       "      <td>8</td>\n",
       "      <td>4</td>\n",
       "      <td>4</td>\n",
       "    </tr>\n",
       "  </tbody>\n",
       "</table>\n",
       "<p>5 rows × 25 columns</p>\n",
       "</div>"
      ],
      "text/plain": [
       "   sentiment_score        Open        High         Low       Close  \\\n",
       "0         0.104167  234.809998  237.809998  233.970001  237.330002   \n",
       "1         0.141667  234.809998  237.809998  233.970001  237.330002   \n",
       "2         0.104167  228.059998  230.720001  228.059998  229.869995   \n",
       "3         0.104167  226.399994  226.919998  224.270004  225.000000   \n",
       "4         0.104167  227.169998  228.660004  226.410004  226.960007   \n",
       "\n",
       "       Volume  Dividends  Stock Splits  sentiment_score_average  subjectivity  \\\n",
       "0  28481400.0       0.00           0.0                 0.122917      0.225000   \n",
       "1  28481400.0       0.00           0.0                 0.122917      0.341667   \n",
       "2  38168300.0       0.00           0.0                 0.104167      0.225000   \n",
       "3  47923700.0       0.00           0.0                 0.104167      0.225000   \n",
       "4  38328800.0       0.25           0.0                 0.113826      0.225000   \n",
       "\n",
       "   ...  Stock_AAPL  Stock_AMZN  Stock_GOOGL  Stock_MSFT  Stock_TSLA  Year  \\\n",
       "0  ...           1           0            0           0           0  2024   \n",
       "1  ...           1           0            0           0           0  2024   \n",
       "2  ...           1           0            0           0           0  2024   \n",
       "3  ...           1           0            0           0           0  2024   \n",
       "4  ...           1           0            0           0           0  2024   \n",
       "\n",
       "   Month  Day  Weekday  Quarter  \n",
       "0     11   29        4        4  \n",
       "1     11   29        4        4  \n",
       "2     11   22        4        4  \n",
       "3     11   15        4        4  \n",
       "4     11    8        4        4  \n",
       "\n",
       "[5 rows x 25 columns]"
      ]
     },
     "execution_count": 4,
     "metadata": {},
     "output_type": "execute_result"
    }
   ],
   "source": [
    "df.head()"
   ]
  },
  {
   "cell_type": "markdown",
   "id": "3b0f4b1f",
   "metadata": {},
   "source": [
    "## Model Building and Evaluation"
   ]
  },
  {
   "cell_type": "code",
   "execution_count": 5,
   "id": "0c127f89",
   "metadata": {},
   "outputs": [
    {
     "name": "stdout",
     "output_type": "stream",
     "text": [
      "Collecting lightgbm\n",
      "  Downloading lightgbm-4.5.0-py3-none-win_amd64.whl (1.4 MB)\n",
      "     ---------------------------------------- 1.4/1.4 MB 9.1 MB/s eta 0:00:00\n",
      "Requirement already satisfied: numpy>=1.17.0 in c:\\users\\hamsa\\anaconda3\\lib\\site-packages (from lightgbm) (1.21.5)\n",
      "Requirement already satisfied: scipy in c:\\users\\hamsa\\anaconda3\\lib\\site-packages (from lightgbm) (1.9.1)\n",
      "Installing collected packages: lightgbm\n",
      "Successfully installed lightgbm-4.5.0\n",
      "Collecting catboost\n",
      "  Downloading catboost-1.2.7-cp39-cp39-win_amd64.whl (101.8 MB)\n",
      "     -------------------------------------- 101.8/101.8 MB 9.2 MB/s eta 0:00:00\n",
      "Requirement already satisfied: scipy in c:\\users\\hamsa\\anaconda3\\lib\\site-packages (from catboost) (1.9.1)\n",
      "Requirement already satisfied: numpy<2.0,>=1.16.0 in c:\\users\\hamsa\\anaconda3\\lib\\site-packages (from catboost) (1.21.5)\n",
      "Collecting graphviz\n",
      "  Downloading graphviz-0.20.3-py3-none-any.whl (47 kB)\n",
      "     ---------------------------------------- 47.1/47.1 kB 2.5 MB/s eta 0:00:00\n",
      "Requirement already satisfied: six in c:\\users\\hamsa\\anaconda3\\lib\\site-packages (from catboost) (1.16.0)\n",
      "Requirement already satisfied: pandas>=0.24 in c:\\users\\hamsa\\anaconda3\\lib\\site-packages (from catboost) (1.4.4)\n",
      "Requirement already satisfied: matplotlib in c:\\users\\hamsa\\anaconda3\\lib\\site-packages (from catboost) (3.5.2)\n",
      "Requirement already satisfied: plotly in c:\\users\\hamsa\\anaconda3\\lib\\site-packages (from catboost) (5.9.0)\n",
      "Requirement already satisfied: pytz>=2020.1 in c:\\users\\hamsa\\anaconda3\\lib\\site-packages (from pandas>=0.24->catboost) (2024.2)\n",
      "Requirement already satisfied: python-dateutil>=2.8.1 in c:\\users\\hamsa\\anaconda3\\lib\\site-packages (from pandas>=0.24->catboost) (2.8.2)\n",
      "Requirement already satisfied: kiwisolver>=1.0.1 in c:\\users\\hamsa\\anaconda3\\lib\\site-packages (from matplotlib->catboost) (1.4.2)\n",
      "Requirement already satisfied: pyparsing>=2.2.1 in c:\\users\\hamsa\\anaconda3\\lib\\site-packages (from matplotlib->catboost) (2.4.7)\n",
      "Requirement already satisfied: cycler>=0.10 in c:\\users\\hamsa\\anaconda3\\lib\\site-packages (from matplotlib->catboost) (0.11.0)\n",
      "Requirement already satisfied: fonttools>=4.22.0 in c:\\users\\hamsa\\anaconda3\\lib\\site-packages (from matplotlib->catboost) (4.25.0)\n",
      "Requirement already satisfied: pillow>=6.2.0 in c:\\users\\hamsa\\anaconda3\\lib\\site-packages (from matplotlib->catboost) (9.2.0)\n",
      "Requirement already satisfied: packaging>=20.0 in c:\\users\\hamsa\\anaconda3\\lib\\site-packages (from matplotlib->catboost) (23.2)\n",
      "Requirement already satisfied: tenacity>=6.2.0 in c:\\users\\hamsa\\anaconda3\\lib\\site-packages (from plotly->catboost) (8.2.3)\n",
      "Installing collected packages: graphviz, catboost\n",
      "Successfully installed catboost-1.2.7 graphviz-0.20.3\n"
     ]
    }
   ],
   "source": [
    "! pip install lightgbm\n",
    "! pip install catboost\n"
   ]
  },
  {
   "cell_type": "code",
   "execution_count": 5,
   "id": "aa0a2e05",
   "metadata": {},
   "outputs": [
    {
     "name": "stderr",
     "output_type": "stream",
     "text": [
      "C:\\Users\\hamsa\\anaconda3\\lib\\site-packages\\sklearn\\linear_model\\_ridge.py:157: LinAlgWarning: Ill-conditioned matrix (rcond=3.60866e-19): result may not be accurate.\n",
      "  return linalg.solve(A, Xy, sym_pos=True, overwrite_a=True).T\n",
      "C:\\Users\\hamsa\\anaconda3\\lib\\site-packages\\sklearn\\linear_model\\_coordinate_descent.py:647: ConvergenceWarning: Objective did not converge. You might want to increase the number of iterations, check the scale of the features or consider increasing regularisation. Duality gap: 5.427e+03, tolerance: 1.043e+03\n",
      "  model = cd_fast.enet_coordinate_descent(\n"
     ]
    },
    {
     "name": "stdout",
     "output_type": "stream",
     "text": [
      "[LightGBM] [Warning] Found whitespace in feature_names, replace with underlines\n",
      "[LightGBM] [Info] Auto-choosing row-wise multi-threading, the overhead of testing was 0.000581 seconds.\n",
      "You can set `force_row_wise=true` to remove the overhead.\n",
      "And if memory is not enough, you can set `force_col_wise=true`.\n",
      "[LightGBM] [Info] Total Bins 3105\n",
      "[LightGBM] [Info] Number of data points in the train set: 1482, number of used features: 22\n",
      "[LightGBM] [Info] Start training from score 215.991736\n",
      "Model Performance Metrics:\n",
      "                                RMSE        MAE  R-squared\n",
      "Linear Regression           1.477398   1.008038   0.999716\n",
      "Ridge Regression            1.477093   1.007836   0.999716\n",
      "Lasso Regression            2.501874   1.656600   0.999185\n",
      "Random Forest               1.864957   1.150897   0.999547\n",
      "Gradient Boosting           1.946034   1.374998   0.999507\n",
      "LightGBM                    2.220278   1.371501   0.999358\n",
      "CatBoost                    3.917241   2.772935   0.998002\n",
      "Support Vector Regression  93.050171  59.851366  -0.127484\n",
      "\n",
      "The best model is Ridge Regression with an R-squared of 0.9997\n"
     ]
    }
   ],
   "source": [
    "import pandas as pd\n",
    "import numpy as np\n",
    "from sklearn.model_selection import train_test_split\n",
    "from sklearn.linear_model import LinearRegression, Ridge, Lasso\n",
    "from sklearn.ensemble import RandomForestRegressor, GradientBoostingRegressor\n",
    "from sklearn.metrics import mean_squared_error, mean_absolute_error, r2_score\n",
    "from lightgbm import LGBMRegressor\n",
    "from catboost import CatBoostRegressor\n",
    "\n",
    "from sklearn.svm import SVR\n",
    "\n",
    "X = df.drop(columns=['Close'])\n",
    "y = df['Close']\n",
    "\n",
    "# Splitting the data for train and test\n",
    "X_train, X_test, y_train, y_test = train_test_split(X, y, test_size=0.2, random_state=42)\n",
    "\n",
    "models = {\n",
    "    'Linear Regression': LinearRegression(),\n",
    "    'Ridge Regression': Ridge(),\n",
    "    'Lasso Regression': Lasso(),\n",
    "    'Random Forest': RandomForestRegressor(n_estimators=100, random_state=42),\n",
    "    'Gradient Boosting': GradientBoostingRegressor(n_estimators=100, random_state=42),\n",
    "    'LightGBM': LGBMRegressor(n_estimators=100, random_state=42),\n",
    "    'CatBoost': CatBoostRegressor(iterations=100, learning_rate=0.1, depth=6, random_state=42, silent=True),\n",
    "    'Support Vector Regression': SVR(kernel='rbf')\n",
    "}\n",
    "\n",
    "results = {}\n",
    "\n",
    "# Training the models\n",
    "for name, model in models.items():\n",
    "   \n",
    "    model.fit(X_train, y_train)\n",
    "    \n",
    "    # Predicting\n",
    "    y_pred = model.predict(X_test)\n",
    "    \n",
    "    # Evaluating\n",
    "    rmse = np.sqrt(mean_squared_error(y_test, y_pred))  # Root Mean Squared Error\n",
    "    mae = mean_absolute_error(y_test, y_pred)  # Mean Absolute Error\n",
    "    r2 = r2_score(y_test, y_pred)  # R-squared\n",
    "    \n",
    "    results[name] = {\n",
    "        'RMSE': rmse,\n",
    "        'MAE': mae,\n",
    "        'R-squared': r2\n",
    "    }\n",
    "\n",
    "# Evaluation results for each model\n",
    "results_df = pd.DataFrame(results).T\n",
    "print(\"Model Performance Metrics:\")\n",
    "print(results_df)\n",
    "\n",
    "# Best model \n",
    "best_model_name = results_df['R-squared'].idxmax()\n",
    "best_model = models[best_model_name]\n",
    "\n",
    "print(f\"\\nThe best model is {best_model_name} with an R-squared of {results_df.loc[best_model_name, 'R-squared']:.4f}\")\n"
   ]
  },
  {
   "cell_type": "code",
   "execution_count": 6,
   "id": "34bb1535",
   "metadata": {},
   "outputs": [
    {
     "name": "stdout",
     "output_type": "stream",
     "text": [
      "{'RMSE': 1.477092603857243, 'MAE': 1.0078355859931742, 'R-squared': 0.9997158867974513}\n"
     ]
    }
   ],
   "source": [
    "print(results['Ridge Regression'])"
   ]
  },
  {
   "cell_type": "markdown",
   "id": "6dc76936",
   "metadata": {},
   "source": [
    "# Evaluation metrics\n",
    "## The Root Mean Squared Error in the model is: 1.477092603857243"
   ]
  },
  {
   "cell_type": "markdown",
   "id": "4a81c0ec",
   "metadata": {},
   "source": [
    "### Ridge Regression explains 99.97% of the variance in the data, with only 0.03% error in its predictions."
   ]
  },
  {
   "cell_type": "code",
   "execution_count": 28,
   "id": "7670b892",
   "metadata": {},
   "outputs": [
    {
     "name": "stdout",
     "output_type": "stream",
     "text": [
      "[179.68895393 180.12026157 195.56439726 183.15827764 181.3235002\n",
      " 196.08431208 183.00828194 191.15341744 210.5342161  179.83857391\n",
      " 182.60668737 206.11346357 183.78851054 197.83968916 179.95441114\n",
      " 183.74683265 198.30541249 179.69533452 183.79658922 180.58960689\n",
      " 181.65073008 180.28991734 179.7128636  179.73428888 180.83123936\n",
      " 199.09417359 181.35573791 183.63487928 180.5347466  181.20431329\n",
      " 180.23676467 183.6457847  180.07572611 180.96885217 182.10843492\n",
      " 179.97735782 182.21044732 182.88269411 186.97313436 179.75891472\n",
      " 183.23802532 188.34440369 183.59070312 183.86248518 203.68029678\n",
      " 179.69794782 180.22914261 179.74224925 193.13653959 184.07746406\n",
      " 180.05996557 202.64850385 201.37860082 181.26769033 181.942375\n",
      " 182.93096526 199.04028262 184.68070063 180.44554642 179.7145672\n",
      " 182.79812244 179.80501728 181.07403048 180.06652162 191.386681\n",
      " 180.45033766 181.08927313 198.84026756 184.27122543 181.61726874\n",
      " 181.53027864 185.21245297 179.79140693 182.41455534 181.22854801\n",
      " 209.86636591 180.20704293 181.14685588 179.77990092 182.87775223\n",
      " 208.54333133 181.72048312 181.45421808 183.75993123 182.73870351\n",
      " 183.43042428 180.17793902 181.50650266 210.23295448 183.77628791\n",
      " 181.93769733 181.26963127 187.12567368 184.56585288 182.18851961\n",
      " 186.08480163 183.02458538 179.74023499 182.0024189  182.03093202\n",
      " 181.79689071 183.20672895 182.33995172 208.61339735 179.79587689\n",
      " 179.7291527  179.83623599 182.62354417 181.89830484 189.04656987\n",
      " 181.03953091 183.08717153 181.86074197 181.49552124 182.27758816\n",
      " 182.60897528 183.4993865  183.02937572 210.31396771 183.28628118\n",
      " 182.30508434 180.48727101 183.53172968 182.12117494 181.50819406\n",
      " 180.11188112 180.1120453  183.69637031 182.87706806 184.40396313\n",
      " 181.82259001 181.36729516 210.5342161  182.68581442 181.90213606\n",
      " 188.5013508  179.8727131  182.24909807 179.89106579 181.90213606\n",
      " 180.41215066 182.86377803 180.59099647 194.54353233 200.9825632\n",
      " 180.11987938 183.71538942 182.93009212 179.6926102  180.25628829\n",
      " 182.45638174 181.22953388 179.69101354 181.20421335 187.53099964\n",
      " 204.12459301 207.63817894 182.21915351 184.17343115 198.97651666\n",
      " 183.3427516  180.43867683 181.04204379 180.6125893  179.68680378\n",
      " 179.8462655  180.59780223 183.26512924 181.19532903 179.79140693\n",
      " 181.64707694 183.27690397 181.39244326 182.75796495 184.44868575\n",
      " 180.67114918 183.39332061 181.19934797 181.95003136 180.48890072\n",
      " 182.57710212 180.18779701 180.68461363 179.7210713  180.63335429\n",
      " 179.75391844 182.65578873 184.54077115 184.1555217  192.76272172\n",
      " 182.02170961 188.2594414  179.80349582 182.70944854 199.01338879\n",
      " 179.71913569 182.28816132 180.79631513 179.94842774 179.68731858\n",
      " 183.78188118 182.04200853 180.56418688 189.38792484 181.49552124\n",
      " 181.86342218 183.7082321  179.92630489 190.47054027 179.9772234\n",
      " 179.68689782 182.14487286 195.06198634 179.68427655 180.00055537\n",
      " 179.70510371 183.39191573 182.16180186 209.98009461 180.04019034\n",
      " 183.25799675 180.88274046 181.7806579  185.01902414 182.79739736\n",
      " 179.69037582 182.67702337 191.03184532 183.28240348 208.66157763\n",
      " 190.60895519 186.86545457 185.56188171 182.25705207 181.41285364\n",
      " 179.69411077 179.94842774 180.1101203  207.63817894 179.84647129\n",
      " 179.68844518 179.69225252 180.35367228 180.01749263 180.70893356\n",
      " 182.96149193 180.02198753 181.35176894 181.63248932 191.8204628\n",
      " 183.54922786 181.42845933 183.35406267 182.73870351 181.49145927\n",
      " 179.68872408 181.22953388 183.39528383 180.66605935 183.00214977\n",
      " 179.86120933 180.32867426 183.43709152 181.8946707  182.82420242\n",
      " 180.4026267  179.79140693 181.36552404 181.17754381 182.00441113\n",
      " 183.55589658 183.00828194 180.50605009 180.89378278 191.67694948\n",
      " 203.04685452 179.82001201 182.31698072 181.22953388 202.68899351\n",
      " 207.63817894 200.94798124 182.67577764 183.66344728 181.19532903\n",
      " 180.0061578  181.96908352 180.72560072 184.03011194 202.06627261\n",
      " 179.80669472 179.76372773 182.57704074 179.68249063 208.88823787\n",
      " 183.04921603 182.5356239  183.71538942 181.15616196 181.90213606\n",
      " 180.00055537 179.69632991 179.81746904 206.19424413 179.94842383\n",
      " 184.21015348 182.73613578 180.12026157 183.46844975 180.32414514\n",
      " 183.22614581 193.1816226  180.0895727  180.85462115 183.1137555\n",
      " 183.37618232 180.11987938 180.98698304 185.7561077  183.10033407\n",
      " 179.83859178 181.24540231 179.7573207  179.68332953 196.89839638\n",
      " 182.47660985 180.31889272 184.14201321 182.61441801 180.11622677\n",
      " 181.87258286 180.93222563 180.36036616 179.92505731 180.09535294\n",
      " 179.7573207  180.32225748 183.09119982 179.68872408 183.02937572\n",
      " 179.95061078 179.71913569 181.66108897 180.85448632 182.82851385\n",
      " 195.64405716 188.48813126 181.7942485  180.0594874  184.02421741\n",
      " 179.85144902 182.88748273 183.0130515  183.31691985 182.33303268\n",
      " 182.30083867 180.92262481 180.6125893  183.62591382 181.57977603\n",
      " 182.12519781 204.13021978 182.60668737 182.93300902 180.20414869\n",
      " 209.52653739 181.84784766 181.50819406 179.94842774 179.70624509\n",
      " 180.89378278]\n"
     ]
    }
   ],
   "source": [
    "print(y_pred)"
   ]
  },
  {
   "cell_type": "code",
   "execution_count": 10,
   "id": "7b7ad115",
   "metadata": {},
   "outputs": [
    {
     "name": "stdout",
     "output_type": "stream",
     "text": [
      "      sentiment_score        Open        High         Low        Volume  \\\n",
      "233          0.104167  176.223381  177.515329  175.458139  5.198810e+07   \n",
      "450          0.600000  391.828589  397.655865  385.862110  4.058650e+07   \n",
      "1240         0.200000  228.020004  233.970001  225.380005  1.124845e+08   \n",
      "1693         0.432857  175.054966  176.981416  174.014967  1.952204e+07   \n",
      "411         -0.129167  419.193835  425.838517  411.523031  3.029640e+07   \n",
      "...               ...         ...         ...         ...           ...   \n",
      "471         -1.000000  411.647262  411.935650  398.401702  2.691920e+07   \n",
      "777         -0.200000  189.289993  190.600006  181.869995  7.043560e+07   \n",
      "413          0.328125  418.904930  420.180074  410.646368  4.289140e+07   \n",
      "271          0.081299  184.153812  186.148682  183.617867  5.307930e+07   \n",
      "184          0.136591  197.054638  198.646829  195.203705  6.683160e+07   \n",
      "\n",
      "      Dividends  Stock Splits  sentiment_score_average  subjectivity  \\\n",
      "233        0.24           0.0                 0.104167      0.225000   \n",
      "450        0.00           0.0                 0.150000      0.950000   \n",
      "1240       0.00           0.0                 0.200000      0.750000   \n",
      "1693       0.00           0.0                 0.278413      0.279286   \n",
      "411        0.00           0.0                -0.119940      0.587500   \n",
      "...         ...           ...                      ...           ...   \n",
      "471        0.00           0.0                -0.407143      1.000000   \n",
      "777        0.00           0.0                -0.109970      0.366667   \n",
      "413        0.00           0.0                 0.091888      0.575000   \n",
      "271        0.00           0.0                 0.092733      0.307662   \n",
      "184        0.00           0.0                 0.096503      0.561136   \n",
      "\n",
      "       topic_0  ...  Stock_AAPL  Stock_AMZN  Stock_GOOGL  Stock_MSFT  \\\n",
      "233   0.967850  ...           1           0            0           0   \n",
      "450   0.011920  ...           0           0            0           1   \n",
      "1240  0.027775  ...           0           0            0           0   \n",
      "1693  0.156309  ...           0           0            1           0   \n",
      "411   0.009112  ...           0           0            0           1   \n",
      "...        ...  ...         ...         ...          ...         ...   \n",
      "471   0.018466  ...           0           0            0           1   \n",
      "777   0.010129  ...           0           1            0           0   \n",
      "413   0.012330  ...           0           0            0           1   \n",
      "271   0.008441  ...           1           0            0           0   \n",
      "184   0.078626  ...           1           0            0           0   \n",
      "\n",
      "      Stock_TSLA  Year  Month  Day  Weekday  Quarter  \n",
      "233            0  2023      8   11        4        3  \n",
      "450            0  2024      4   25        3        2  \n",
      "1240           1  2023      8   16        2        3  \n",
      "1693           0  2024     11   10        6        4  \n",
      "411            0  2024      8    1        3        3  \n",
      "...          ...   ...    ...  ...      ...      ...  \n",
      "471            0  2024      3    5        1        1  \n",
      "777            0  2024      8    1        3        3  \n",
      "413            0  2024      7   31        2        3  \n",
      "271            0  2023      6   23        4        2  \n",
      "184            0  2023     12   14        3        4  \n",
      "\n",
      "[371 rows x 24 columns]\n"
     ]
    }
   ],
   "source": [
    "print(X_test)"
   ]
  },
  {
   "cell_type": "code",
   "execution_count": 11,
   "id": "028a42d6",
   "metadata": {},
   "outputs": [
    {
     "name": "stdout",
     "output_type": "stream",
     "text": [
      "(371,)\n"
     ]
    }
   ],
   "source": [
    "print(y_pred.shape)"
   ]
  },
  {
   "cell_type": "code",
   "execution_count": 17,
   "id": "23a0ccd8",
   "metadata": {},
   "outputs": [
    {
     "name": "stdout",
     "output_type": "stream",
     "text": [
      "[179.68895393 180.12026157 195.56439726 183.15827764 181.3235002\n",
      " 196.08431208 183.00828194 191.15341744 210.5342161  179.83857391\n",
      " 182.60668737 206.11346357 183.78851054 197.83968916 179.95441114\n",
      " 183.74683265 198.30541249 179.69533452 183.79658922 180.58960689\n",
      " 181.65073008 180.28991734 179.7128636  179.73428888 180.83123936\n",
      " 199.09417359 181.35573791 183.63487928 180.5347466  181.20431329\n",
      " 180.23676467 183.6457847  180.07572611 180.96885217 182.10843492\n",
      " 179.97735782 182.21044732 182.88269411 186.97313436 179.75891472\n",
      " 183.23802532 188.34440369 183.59070312 183.86248518 203.68029678\n",
      " 179.69794782 180.22914261 179.74224925 193.13653959 184.07746406\n",
      " 180.05996557 202.64850385 201.37860082 181.26769033 181.942375\n",
      " 182.93096526 199.04028262 184.68070063 180.44554642 179.7145672\n",
      " 182.79812244 179.80501728 181.07403048 180.06652162 191.386681\n",
      " 180.45033766 181.08927313 198.84026756 184.27122543 181.61726874\n",
      " 181.53027864 185.21245297 179.79140693 182.41455534 181.22854801\n",
      " 209.86636591 180.20704293 181.14685588 179.77990092 182.87775223\n",
      " 208.54333133 181.72048312 181.45421808 183.75993123 182.73870351\n",
      " 183.43042428 180.17793902 181.50650266 210.23295448 183.77628791\n",
      " 181.93769733 181.26963127 187.12567368 184.56585288 182.18851961\n",
      " 186.08480163 183.02458538 179.74023499 182.0024189  182.03093202\n",
      " 181.79689071 183.20672895 182.33995172 208.61339735 179.79587689\n",
      " 179.7291527  179.83623599 182.62354417 181.89830484 189.04656987\n",
      " 181.03953091 183.08717153 181.86074197 181.49552124 182.27758816\n",
      " 182.60897528 183.4993865  183.02937572 210.31396771 183.28628118\n",
      " 182.30508434 180.48727101 183.53172968 182.12117494 181.50819406\n",
      " 180.11188112 180.1120453  183.69637031 182.87706806 184.40396313\n",
      " 181.82259001 181.36729516 210.5342161  182.68581442 181.90213606\n",
      " 188.5013508  179.8727131  182.24909807 179.89106579 181.90213606\n",
      " 180.41215066 182.86377803 180.59099647 194.54353233 200.9825632\n",
      " 180.11987938 183.71538942 182.93009212 179.6926102  180.25628829\n",
      " 182.45638174 181.22953388 179.69101354 181.20421335 187.53099964\n",
      " 204.12459301 207.63817894 182.21915351 184.17343115 198.97651666\n",
      " 183.3427516  180.43867683 181.04204379 180.6125893  179.68680378\n",
      " 179.8462655  180.59780223 183.26512924 181.19532903 179.79140693\n",
      " 181.64707694 183.27690397 181.39244326 182.75796495 184.44868575\n",
      " 180.67114918 183.39332061 181.19934797 181.95003136 180.48890072\n",
      " 182.57710212 180.18779701 180.68461363 179.7210713  180.63335429\n",
      " 179.75391844 182.65578873 184.54077115 184.1555217  192.76272172\n",
      " 182.02170961 188.2594414  179.80349582 182.70944854 199.01338879\n",
      " 179.71913569 182.28816132 180.79631513 179.94842774 179.68731858\n",
      " 183.78188118 182.04200853 180.56418688 189.38792484 181.49552124\n",
      " 181.86342218 183.7082321  179.92630489 190.47054027 179.9772234\n",
      " 179.68689782 182.14487286 195.06198634 179.68427655 180.00055537\n",
      " 179.70510371 183.39191573 182.16180186 209.98009461 180.04019034\n",
      " 183.25799675 180.88274046 181.7806579  185.01902414 182.79739736\n",
      " 179.69037582 182.67702337 191.03184532 183.28240348 208.66157763\n",
      " 190.60895519 186.86545457 185.56188171 182.25705207 181.41285364\n",
      " 179.69411077 179.94842774 180.1101203  207.63817894 179.84647129\n",
      " 179.68844518 179.69225252 180.35367228 180.01749263 180.70893356\n",
      " 182.96149193 180.02198753 181.35176894 181.63248932 191.8204628\n",
      " 183.54922786 181.42845933 183.35406267 182.73870351 181.49145927\n",
      " 179.68872408 181.22953388 183.39528383 180.66605935 183.00214977\n",
      " 179.86120933 180.32867426 183.43709152 181.8946707  182.82420242\n",
      " 180.4026267  179.79140693 181.36552404 181.17754381 182.00441113\n",
      " 183.55589658 183.00828194 180.50605009 180.89378278 191.67694948\n",
      " 203.04685452 179.82001201 182.31698072 181.22953388 202.68899351\n",
      " 207.63817894 200.94798124 182.67577764 183.66344728 181.19532903\n",
      " 180.0061578  181.96908352 180.72560072 184.03011194 202.06627261\n",
      " 179.80669472 179.76372773 182.57704074 179.68249063 208.88823787\n",
      " 183.04921603 182.5356239  183.71538942 181.15616196 181.90213606\n",
      " 180.00055537 179.69632991 179.81746904 206.19424413 179.94842383\n",
      " 184.21015348 182.73613578 180.12026157 183.46844975 180.32414514\n",
      " 183.22614581 193.1816226  180.0895727  180.85462115 183.1137555\n",
      " 183.37618232 180.11987938 180.98698304 185.7561077  183.10033407\n",
      " 179.83859178 181.24540231 179.7573207  179.68332953 196.89839638\n",
      " 182.47660985 180.31889272 184.14201321 182.61441801 180.11622677\n",
      " 181.87258286 180.93222563 180.36036616 179.92505731 180.09535294\n",
      " 179.7573207  180.32225748 183.09119982 179.68872408 183.02937572\n",
      " 179.95061078 179.71913569 181.66108897 180.85448632 182.82851385\n",
      " 195.64405716 188.48813126 181.7942485  180.0594874  184.02421741\n",
      " 179.85144902 182.88748273 183.0130515  183.31691985 182.33303268\n",
      " 182.30083867 180.92262481 180.6125893  183.62591382 181.57977603\n",
      " 182.12519781 204.13021978 182.60668737 182.93300902 180.20414869\n",
      " 209.52653739 181.84784766 181.50819406 179.94842774 179.70624509\n",
      " 180.89378278]\n"
     ]
    }
   ],
   "source": [
    "print(y_pred)"
   ]
  },
  {
   "cell_type": "code",
   "execution_count": 18,
   "id": "85391ac0",
   "metadata": {},
   "outputs": [],
   "source": [
    "first_30 = y_pred[:30]\n"
   ]
  },
  {
   "cell_type": "code",
   "execution_count": 19,
   "id": "d1781693",
   "metadata": {},
   "outputs": [
    {
     "name": "stdout",
     "output_type": "stream",
     "text": [
      "[179.68895393 180.12026157 195.56439726 183.15827764 181.3235002\n",
      " 196.08431208 183.00828194 191.15341744 210.5342161  179.83857391\n",
      " 182.60668737 206.11346357 183.78851054 197.83968916 179.95441114\n",
      " 183.74683265 198.30541249 179.69533452 183.79658922 180.58960689\n",
      " 181.65073008 180.28991734 179.7128636  179.73428888 180.83123936\n",
      " 199.09417359 181.35573791 183.63487928 180.5347466  181.20431329]\n"
     ]
    }
   ],
   "source": [
    "print(first_30)"
   ]
  },
  {
   "cell_type": "code",
   "execution_count": 22,
   "id": "76ee1fce",
   "metadata": {},
   "outputs": [],
   "source": [
    "np.save(\"first_30_pred_model2.npy\",first_30)"
   ]
  },
  {
   "cell_type": "code",
   "execution_count": 24,
   "id": "379546b5",
   "metadata": {},
   "outputs": [],
   "source": [
    "actual_stockprice = y_test[:30]"
   ]
  },
  {
   "cell_type": "code",
   "execution_count": 26,
   "id": "7b248799",
   "metadata": {},
   "outputs": [
    {
     "data": {
      "text/plain": [
       "(30,)"
      ]
     },
     "execution_count": 26,
     "metadata": {},
     "output_type": "execute_result"
    }
   ],
   "source": [
    "actual_stockprice.shape"
   ]
  },
  {
   "cell_type": "code",
   "execution_count": 27,
   "id": "2e21c149",
   "metadata": {},
   "outputs": [],
   "source": [
    "np.save(\"actual_stockprice.npy\",actual_stockprice)"
   ]
  },
  {
   "cell_type": "markdown",
   "id": "aa7ab948",
   "metadata": {},
   "source": [
    "## Model Comparison  \n",
    "\n",
    "### Model 1 (ARIMA) successfully captures the historical trend in closing prices but does not account for key factors such as stock name, associated sentiment, post subjectivity, and topic.\n",
    "\n",
    "### In contrast, Model 2 provides more reliable predictions as it is trained with these attributes that significantly impacts stock prices.  \n"
   ]
  },
  {
   "cell_type": "markdown",
   "id": "79795fca",
   "metadata": {},
   "source": [
    "## Next Step \n",
    "\n",
    "### In the next step we  combine the prediction results from both models to leverage their strengths and achieve a more accurate stock price forecast.  \n"
   ]
  }
 ],
 "metadata": {
  "kernelspec": {
   "display_name": "Python 3 (ipykernel)",
   "language": "python",
   "name": "python3"
  },
  "language_info": {
   "codemirror_mode": {
    "name": "ipython",
    "version": 3
   },
   "file_extension": ".py",
   "mimetype": "text/x-python",
   "name": "python",
   "nbconvert_exporter": "python",
   "pygments_lexer": "ipython3",
   "version": "3.9.13"
  }
 },
 "nbformat": 4,
 "nbformat_minor": 5
}
