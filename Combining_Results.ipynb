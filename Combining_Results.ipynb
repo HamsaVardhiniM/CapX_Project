{
 "cells": [
  {
   "cell_type": "markdown",
   "id": "f4e111e2",
   "metadata": {},
   "source": [
    "## Combining the predictions of both the models"
   ]
  },
  {
   "cell_type": "markdown",
   "id": "30a7c7cb",
   "metadata": {},
   "source": [
    "### Based on performance , the models are assigned weights"
   ]
  },
  {
   "cell_type": "markdown",
   "id": "c7ba5948",
   "metadata": {},
   "source": [
    "## Method1: Weights based Combining of results"
   ]
  },
  {
   "cell_type": "code",
   "execution_count": 2,
   "id": "f6b46af5",
   "metadata": {},
   "outputs": [
    {
     "name": "stdout",
     "output_type": "stream",
     "text": [
      "Combined Predictions: [170.06182806 171.05630178 172.22170355 173.07001718 174.03869047\n",
      " 175.19631227 176.03699866 177.11929791 178.32952041 178.96959931\n",
      " 179.99067865 181.24787734 181.98326043 183.13280273 183.91873359\n",
      " 184.95147515 186.10679445 186.88447313 187.92073091 188.873781\n",
      " 189.87542547 190.84949506 191.83248812 192.82229514 193.82434752\n",
      " 195.02184262 195.80944535 196.82495752 197.77922415 198.77641056]\n"
     ]
    }
   ],
   "source": [
    "import numpy as np\n",
    "\n",
    "arima_predictions= np.load(\"first_30_pred_model1.npy\")\n",
    "ridge_predictions= np.load(\"first_30_pred_model2.npy\")\n",
    "\n",
    "# RMSE of both models\n",
    "arima_rmse = 0.01701  \n",
    "ridge_rmse = 1.4770   \n",
    "\n",
    "# inverse of RMSE \n",
    "inverse_arima_rmse = 1 / arima_rmse\n",
    "inverse_ridge_rmse = 1 / ridge_rmse\n",
    "\n",
    "total_inverse_rmse = inverse_arima_rmse + inverse_ridge_rmse\n",
    "\n",
    "# Weights\n",
    "w_arima = inverse_arima_rmse / total_inverse_rmse  # Weight for ARIMA\n",
    "w_ridge = inverse_ridge_rmse / total_inverse_rmse  # Weight for Ridge\n",
    "\n",
    "combined_predictions = w_arima * arima_predictions + w_ridge * ridge_predictions\n",
    "print(\"Combined Predictions:\", combined_predictions)\n"
   ]
  },
  {
   "cell_type": "markdown",
   "id": "140d8a7b",
   "metadata": {},
   "source": [
    "### Inverse of RMSE is assigned as weight, so that the model with high error(RMSE) is assigned lesser weightage comparitively"
   ]
  },
  {
   "cell_type": "markdown",
   "id": "5747bac2",
   "metadata": {},
   "source": [
    "## Evaluating combined results"
   ]
  },
  {
   "cell_type": "code",
   "execution_count": 4,
   "id": "e86c5e67",
   "metadata": {},
   "outputs": [
    {
     "name": "stdout",
     "output_type": "stream",
     "text": [
      "[176.69046021 396.81060791 225.6000061  175.6193339  415.527771\n",
      " 216.79999542 162.72999573 265.27999878 273.57998657 171.11000061\n",
      " 135.39472961 217.80000305 163.6700058  195.59666951 135.52000427\n",
      " 186.2828064  230.16999817 174.40107727  99.14500046 166.2049942\n",
      " 183.13000488 187.07000732 194.75588989 149.92999268 301.01934814\n",
      " 244.62000275 308.03704834 412.29473877 181.54908752 148.66000366]\n"
     ]
    }
   ],
   "source": [
    "actual_stockprice= np.load(\"actual_stockprice.npy\")\n",
    "print(actual_stockprice)"
   ]
  },
  {
   "cell_type": "code",
   "execution_count": 9,
   "id": "ce208441",
   "metadata": {},
   "outputs": [
    {
     "name": "stdout",
     "output_type": "stream",
     "text": [
      "Combined Predictions (Stacking): [190.45661144 211.48186721 196.79627114 207.29277727 228.28470119\n",
      " 221.32126515]\n",
      "RMSE (Stacking): 98.063154271082\n"
     ]
    }
   ],
   "source": [
    "from sklearn.linear_model import LinearRegression\n",
    "from sklearn.model_selection import train_test_split\n",
    "from sklearn.metrics import mean_squared_error\n",
    "\n",
    "X = np.column_stack((arima_predictions, ridge_predictions))\n",
    "y = actual_stockprice \n",
    "\n",
    "X_train, X_test, y_train, y_test = train_test_split(X, y, test_size=0.2, random_state=42)\n",
    "\n",
    "meta_model = LinearRegression()\n",
    "meta_model.fit(X_train, y_train)\n",
    "\n",
    "\n",
    "combined_predictions = meta_model.predict(X_test)\n",
    "rmse = np.sqrt(mean_squared_error(y_test, combined_predictions))\n",
    "print(\"Combined Predictions (Stacking):\", combined_predictions)\n",
    "print(\"RMSE (Stacking):\", rmse)\n"
   ]
  },
  {
   "cell_type": "markdown",
   "id": "9a95b328",
   "metadata": {},
   "source": [
    "### Optimizing the weights to combine the results more accurately"
   ]
  },
  {
   "cell_type": "code",
   "execution_count": 14,
   "id": "182ffc03",
   "metadata": {},
   "outputs": [
    {
     "name": "stdout",
     "output_type": "stream",
     "text": [
      "Optimal Weights: ARIMA=0.0000, Ridge=1.0000\n",
      "Combined Predictions (Optimal Weights): [179.68895393 180.12026157 195.56439726 183.15827764 181.3235002\n",
      " 196.08431208 183.00828194 191.15341744 210.5342161  179.83857391\n",
      " 182.60668737 206.11346357 183.78851054 197.83968916 179.95441114\n",
      " 183.74683265 198.30541249 179.69533452 183.79658922 180.58960689\n",
      " 181.65073008 180.28991734 179.7128636  179.73428888 180.83123936\n",
      " 199.09417359 181.35573791 183.63487928 180.5347466  181.20431329]\n",
      "RMSE (Combined Predictions): 84.3419\n"
     ]
    }
   ],
   "source": [
    "from scipy.optimize import minimize\n",
    "import numpy as np\n",
    "\n",
    "def objective(weights):\n",
    "    w_arima, w_ridge = weights\n",
    "    combined = w_arima * arima_predictions + w_ridge * ridge_predictions\n",
    "    rmse = np.sqrt(np.mean((actual_stockprice - combined) ** 2))\n",
    "    return rmse\n",
    "\n",
    "constraints = {'type': 'eq', 'fun': lambda weights: 1 - sum(weights)}\n",
    "bounds = [(0, 1), (0, 1)]\n",
    "\n",
    "# Initializing weights\n",
    "initial_weights = [0.5, 0.5]\n",
    "\n",
    "result = minimize(objective, initial_weights, bounds=bounds, constraints=constraints)\n",
    "\n",
    "# Optimal weights\n",
    "w_arima, w_ridge = result.x\n",
    "combined_predictions = w_arima * arima_predictions + w_ridge * ridge_predictions\n",
    "\n",
    "# Calculate RMSE for the combined predictions\n",
    "combined_rmse = np.sqrt(np.mean((actual_stockprice - combined_predictions) ** 2))\n",
    "print(f\"Optimal Weights: ARIMA={w_arima:.4f}, Ridge={w_ridge:.4f}\")\n",
    "print(\"Combined Predictions (Optimal Weights):\", combined_predictions)\n",
    "print(f\"RMSE (Combined Predictions): {combined_rmse:.4f}\")\n",
    "\n"
   ]
  },
  {
   "cell_type": "code",
   "execution_count": 18,
   "id": "b77a2876",
   "metadata": {},
   "outputs": [
    {
     "name": "stdout",
     "output_type": "stream",
     "text": [
      "Root Mean Squared Errors(RMSE) :\n",
      "RMSE (ARIMA Model): 86.6996\n",
      "RMSE (Combined Predictions): 84.3419\n"
     ]
    }
   ],
   "source": [
    "# Calculating RMSE for each model\n",
    "arima_rmse = np.sqrt(np.mean((actual_stockprice - arima_predictions) ** 2))\n",
    "ridge_rmse = np.sqrt(np.mean((actual_stockprice - ridge_predictions) ** 2))\n",
    "\n",
    "print(\"Root Mean Squared Errors(RMSE) :\")\n",
    "print(f\"RMSE (ARIMA Model): {arima_rmse:.4f}\")\n",
    "\n",
    "print(f\"RMSE (Combined Predictions): {combined_rmse:.4f}\")\n"
   ]
  },
  {
   "cell_type": "markdown",
   "id": "8d56e0f7",
   "metadata": {},
   "source": [
    "## The combined result is more accuarte than the model's predictions individually"
   ]
  }
 ],
 "metadata": {
  "kernelspec": {
   "display_name": "Python 3 (ipykernel)",
   "language": "python",
   "name": "python3"
  },
  "language_info": {
   "codemirror_mode": {
    "name": "ipython",
    "version": 3
   },
   "file_extension": ".py",
   "mimetype": "text/x-python",
   "name": "python",
   "nbconvert_exporter": "python",
   "pygments_lexer": "ipython3",
   "version": "3.9.13"
  }
 },
 "nbformat": 4,
 "nbformat_minor": 5
}
