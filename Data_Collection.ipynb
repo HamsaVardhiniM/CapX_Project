{
 "cells": [
  {
   "cell_type": "markdown",
   "id": "b14a623c",
   "metadata": {},
   "source": [
    "# Data Collection"
   ]
  },
  {
   "cell_type": "markdown",
   "id": "93611ae4",
   "metadata": {},
   "source": [
    "## Collecting historical stock data using yfinance library for the stocks: AAPL, MSFT,AMZN,TSLA and GOOGLE"
   ]
  },
  {
   "cell_type": "code",
   "execution_count": 1,
   "id": "e0f728b7",
   "metadata": {},
   "outputs": [
    {
     "name": "stdout",
     "output_type": "stream",
     "text": [
      "                       Date        Open        High         Low       Close  \\\n",
      "0 2022-11-30 00:00:00-05:00  139.928537  147.172370  139.087391  146.489548   \n",
      "1 2022-12-01 00:00:00-05:00  146.667651  147.578075  145.084296  146.766602   \n",
      "2 2022-12-02 00:00:00-05:00  144.441081  146.459845  144.134294  146.271820   \n",
      "3 2022-12-05 00:00:00-05:00  146.232231  149.349445  144.253044  145.104095   \n",
      "4 2022-12-06 00:00:00-05:00  145.539503  145.767105  140.443088  141.422791   \n",
      "\n",
      "      Volume  Dividends  Stock Splits Stock  \n",
      "0  111380900        0.0           0.0  AAPL  \n",
      "1   71250400        0.0           0.0  AAPL  \n",
      "2   65447400        0.0           0.0  AAPL  \n",
      "3   68826400        0.0           0.0  AAPL  \n",
      "4   64727200        0.0           0.0  AAPL  \n"
     ]
    }
   ],
   "source": [
    "import pandas as pd\n",
    "import numpy as np\n",
    "import matplotlib.pyplot as plt\n",
    "import yfinance as yf\n",
    "import plotly.graph_objects as go\n",
    "\n",
    "#5 different stocks taken\n",
    "stonks = [\"AAPL\", \"MSFT\", \"AMZN\", \"TSLA\", \"GOOGL\"]\n",
    "hists = {}\n",
    "\n",
    "\n",
    "for s in stonks:\n",
    "    tkr = yf.Ticker(s)\n",
    "    history = tkr.history(period=\"2y\")\n",
    "    hists[s] = history\n",
    "\n",
    "\n",
    "stock_data = []\n",
    "for stock, data in hists.items():\n",
    "    data = data.reset_index()  \n",
    "    data[\"Stock\"] = stock \n",
    "    stock_data.append(data)\n",
    "\n",
    "\n",
    "combined_df = pd.concat(stock_data)\n",
    "\n",
    "#  DataFrame with historical Stock Data\n",
    "print(combined_df.head())\n",
    "combined_df.to_csv(\"Stocks_Data.csv\")\n"
   ]
  },
  {
   "cell_type": "code",
   "execution_count": 2,
   "id": "9f65eb26",
   "metadata": {},
   "outputs": [],
   "source": [
    "df=combined_df"
   ]
  },
  {
   "cell_type": "code",
   "execution_count": 3,
   "id": "75f4da2a",
   "metadata": {},
   "outputs": [
    {
     "data": {
      "text/html": [
       "<div>\n",
       "<style scoped>\n",
       "    .dataframe tbody tr th:only-of-type {\n",
       "        vertical-align: middle;\n",
       "    }\n",
       "\n",
       "    .dataframe tbody tr th {\n",
       "        vertical-align: top;\n",
       "    }\n",
       "\n",
       "    .dataframe thead th {\n",
       "        text-align: right;\n",
       "    }\n",
       "</style>\n",
       "<table border=\"1\" class=\"dataframe\">\n",
       "  <thead>\n",
       "    <tr style=\"text-align: right;\">\n",
       "      <th></th>\n",
       "      <th>Date</th>\n",
       "      <th>Open</th>\n",
       "      <th>High</th>\n",
       "      <th>Low</th>\n",
       "      <th>Close</th>\n",
       "      <th>Volume</th>\n",
       "      <th>Dividends</th>\n",
       "      <th>Stock Splits</th>\n",
       "      <th>Stock</th>\n",
       "    </tr>\n",
       "  </thead>\n",
       "  <tbody>\n",
       "    <tr>\n",
       "      <th>0</th>\n",
       "      <td>2022-11-30 00:00:00-05:00</td>\n",
       "      <td>139.928537</td>\n",
       "      <td>147.172370</td>\n",
       "      <td>139.087391</td>\n",
       "      <td>146.489548</td>\n",
       "      <td>111380900</td>\n",
       "      <td>0.0</td>\n",
       "      <td>0.0</td>\n",
       "      <td>AAPL</td>\n",
       "    </tr>\n",
       "    <tr>\n",
       "      <th>1</th>\n",
       "      <td>2022-12-01 00:00:00-05:00</td>\n",
       "      <td>146.667651</td>\n",
       "      <td>147.578075</td>\n",
       "      <td>145.084296</td>\n",
       "      <td>146.766602</td>\n",
       "      <td>71250400</td>\n",
       "      <td>0.0</td>\n",
       "      <td>0.0</td>\n",
       "      <td>AAPL</td>\n",
       "    </tr>\n",
       "    <tr>\n",
       "      <th>2</th>\n",
       "      <td>2022-12-02 00:00:00-05:00</td>\n",
       "      <td>144.441081</td>\n",
       "      <td>146.459845</td>\n",
       "      <td>144.134294</td>\n",
       "      <td>146.271820</td>\n",
       "      <td>65447400</td>\n",
       "      <td>0.0</td>\n",
       "      <td>0.0</td>\n",
       "      <td>AAPL</td>\n",
       "    </tr>\n",
       "    <tr>\n",
       "      <th>3</th>\n",
       "      <td>2022-12-05 00:00:00-05:00</td>\n",
       "      <td>146.232231</td>\n",
       "      <td>149.349445</td>\n",
       "      <td>144.253044</td>\n",
       "      <td>145.104095</td>\n",
       "      <td>68826400</td>\n",
       "      <td>0.0</td>\n",
       "      <td>0.0</td>\n",
       "      <td>AAPL</td>\n",
       "    </tr>\n",
       "    <tr>\n",
       "      <th>4</th>\n",
       "      <td>2022-12-06 00:00:00-05:00</td>\n",
       "      <td>145.539503</td>\n",
       "      <td>145.767105</td>\n",
       "      <td>140.443088</td>\n",
       "      <td>141.422791</td>\n",
       "      <td>64727200</td>\n",
       "      <td>0.0</td>\n",
       "      <td>0.0</td>\n",
       "      <td>AAPL</td>\n",
       "    </tr>\n",
       "  </tbody>\n",
       "</table>\n",
       "</div>"
      ],
      "text/plain": [
       "                       Date        Open        High         Low       Close  \\\n",
       "0 2022-11-30 00:00:00-05:00  139.928537  147.172370  139.087391  146.489548   \n",
       "1 2022-12-01 00:00:00-05:00  146.667651  147.578075  145.084296  146.766602   \n",
       "2 2022-12-02 00:00:00-05:00  144.441081  146.459845  144.134294  146.271820   \n",
       "3 2022-12-05 00:00:00-05:00  146.232231  149.349445  144.253044  145.104095   \n",
       "4 2022-12-06 00:00:00-05:00  145.539503  145.767105  140.443088  141.422791   \n",
       "\n",
       "      Volume  Dividends  Stock Splits Stock  \n",
       "0  111380900        0.0           0.0  AAPL  \n",
       "1   71250400        0.0           0.0  AAPL  \n",
       "2   65447400        0.0           0.0  AAPL  \n",
       "3   68826400        0.0           0.0  AAPL  \n",
       "4   64727200        0.0           0.0  AAPL  "
      ]
     },
     "execution_count": 3,
     "metadata": {},
     "output_type": "execute_result"
    }
   ],
   "source": [
    "df.head()"
   ]
  },
  {
   "cell_type": "code",
   "execution_count": 4,
   "id": "c187fe19",
   "metadata": {},
   "outputs": [
    {
     "data": {
      "text/plain": [
       "Index(['Date', 'Open', 'High', 'Low', 'Close', 'Volume', 'Dividends',\n",
       "       'Stock Splits', 'Stock'],\n",
       "      dtype='object')"
      ]
     },
     "execution_count": 4,
     "metadata": {},
     "output_type": "execute_result"
    }
   ],
   "source": [
    "df.columns"
   ]
  },
  {
   "cell_type": "markdown",
   "id": "d6124e02",
   "metadata": {},
   "source": [
    "# Web Scraping"
   ]
  },
  {
   "cell_type": "markdown",
   "id": "80f66455",
   "metadata": {},
   "source": [
    "## Using praw package to scrape relevant reddit posts about  desired stocks during the past 2 years "
   ]
  },
  {
   "cell_type": "markdown",
   "id": "36b0978e",
   "metadata": {},
   "source": [
    "### Authentication"
   ]
  },
  {
   "cell_type": "code",
   "execution_count": 7,
   "id": "59859b3a",
   "metadata": {},
   "outputs": [
    {
     "name": "stdout",
     "output_type": "stream",
     "text": [
      "Authenticated: hamsatwin\n"
     ]
    }
   ],
   "source": [
    "import praw\n",
    "import time\n",
    "import pandas as pd\n",
    "\n",
    "\n",
    "reddit = praw.Reddit\n",
    "    client_id=\"HeJO43c9Pqcnz5wyOEC_pg\",\n",
    "    client_secret=\"qVyVdtW1EiDUJhGEqv5bDErE6XialQ\",\n",
    "    user_agent=\"StockScraper by hamsatwin\",\n",
    "    username=\"hamsatwin\",\n",
    "    password=\"Captainshield\"\n",
    ")\n",
    "\n",
    "print(\"Authenticated:\", reddit.user.me())\n",
    "\n"
   ]
  },
  {
   "cell_type": "code",
   "execution_count": 6,
   "id": "6260a123",
   "metadata": {},
   "outputs": [
    {
     "name": "stdout",
     "output_type": "stream",
     "text": [
      "Collecting praw\n",
      "  Using cached praw-7.8.1-py3-none-any.whl (189 kB)\n",
      "Requirement already satisfied: websocket-client>=0.54.0 in c:\\users\\hamsa\\anaconda3\\lib\\site-packages (from praw) (0.58.0)\n",
      "Collecting prawcore<3,>=2.4\n",
      "  Using cached prawcore-2.4.0-py3-none-any.whl (17 kB)\n",
      "Collecting update_checker>=0.18\n",
      "  Using cached update_checker-0.18.0-py3-none-any.whl (7.0 kB)\n",
      "Requirement already satisfied: requests<3.0,>=2.6.0 in c:\\users\\hamsa\\anaconda3\\lib\\site-packages (from prawcore<3,>=2.4->praw) (2.32.3)\n",
      "Requirement already satisfied: six in c:\\users\\hamsa\\anaconda3\\lib\\site-packages (from websocket-client>=0.54.0->praw) (1.16.0)\n",
      "Requirement already satisfied: certifi>=2017.4.17 in c:\\users\\hamsa\\anaconda3\\lib\\site-packages (from requests<3.0,>=2.6.0->prawcore<3,>=2.4->praw) (2022.9.14)\n",
      "Requirement already satisfied: urllib3<3,>=1.21.1 in c:\\users\\hamsa\\anaconda3\\lib\\site-packages (from requests<3.0,>=2.6.0->prawcore<3,>=2.4->praw) (1.26.11)\n",
      "Requirement already satisfied: idna<4,>=2.5 in c:\\users\\hamsa\\anaconda3\\lib\\site-packages (from requests<3.0,>=2.6.0->prawcore<3,>=2.4->praw) (2.10)\n",
      "Requirement already satisfied: charset-normalizer<4,>=2 in c:\\users\\hamsa\\anaconda3\\lib\\site-packages (from requests<3.0,>=2.6.0->prawcore<3,>=2.4->praw) (2.0.4)\n",
      "Installing collected packages: update_checker, prawcore, praw\n",
      "Successfully installed praw-7.8.1 prawcore-2.4.0 update_checker-0.18.0\n"
     ]
    }
   ],
   "source": [
    "! pip install praw"
   ]
  },
  {
   "cell_type": "code",
   "execution_count": 8,
   "id": "4298afbd",
   "metadata": {},
   "outputs": [
    {
     "name": "stdout",
     "output_type": "stream",
     "text": [
      "Starting data collection...\n",
      "Collected data for AAPL in r/investing.\n",
      "Collected data for MSFT in r/investing.\n",
      "Collected data for AMZN in r/investing.\n",
      "Collected data for TSLA in r/investing.\n",
      "Collected data for GOOGL in r/investing.\n",
      "Data saved to reddit_stock_posts.csv.\n",
      "              Datetime                                            Content  \\\n",
      "0  2024-11-29 10:30:09  r/Stocks Daily Discussion & Fundamentals Frida...   \n",
      "1  2024-11-22 10:30:12  r/Stocks Daily Discussion & Fundamentals Frida...   \n",
      "2  2024-11-15 10:30:09  r/Stocks Daily Discussion & Fundamentals Frida...   \n",
      "3  2024-11-08 10:30:10  r/Stocks Daily Discussion & Fundamentals Frida...   \n",
      "4  2024-11-02 18:20:38  Globalstar and Apple expanded partnership  - D...   \n",
      "\n",
      "  Stock  \n",
      "0  AAPL  \n",
      "1  AAPL  \n",
      "2  AAPL  \n",
      "3  AAPL  \n",
      "4  AAPL  \n",
      "Total rows: 1856\n"
     ]
    }
   ],
   "source": [
    "\n",
    "subreddits = [\"stocks\", \"investing\"]  # Subreddits to search\n",
    "keywords = [\"AAPL\", \"MSFT\", \"AMZN\", \"TSLA\", \"GOOGL\"] \n",
    "two_years_ago = int(time.time()) - (2 * 365 * 24 * 60 * 60) # Chosen Timeframe of past 2 years \n",
    "results = []\n",
    "\n",
    "#  Scraping  Data\n",
    "print(\"Starting data collection...\")\n",
    "for keyword in keywords:\n",
    "    for subreddit_name in subreddits:\n",
    "        subreddit = reddit.subreddit(subreddit_name)\n",
    "        \n",
    "        for post in subreddit.search(keyword, sort=\"new\", time_filter=\"all\", limit=1000):  \n",
    "            if post.created_utc >= two_years_ago: \n",
    "                results.append({\n",
    "                    \"Datetime\": time.strftime('%Y-%m-%d %H:%M:%S', time.gmtime(post.created_utc)),\n",
    "                    \"Content\": f\"{post.title} - {post.selftext[:200]}...\",  # Truncated content\n",
    "                    \"Stock\": keyword\n",
    "                })\n",
    "               \n",
    "                time.sleep(0.1)\n",
    "\n",
    "    print(f\"Collected data for {keyword} in r/{subreddit_name}.\")\n",
    "\n",
    "\n",
    "if len(results) < 300:\n",
    "    print(f\"Warning: Only {len(results)} rows collected. Consider expanding search criteria.\")\n",
    "\n",
    "\n",
    "df = pd.DataFrame(results)\n",
    "\n",
    "csv_file = \"reddit_stock_posts.csv\"\n",
    "df.to_csv(csv_file, index=False, encoding=\"utf-8\")\n",
    "print(f\"Data saved to {csv_file}.\")\n",
    "\n",
    "\n",
    "print(df.head())  \n",
    "print(f\"Total rows: {len(df)}\")\n"
   ]
  },
  {
   "cell_type": "markdown",
   "id": "6883affa",
   "metadata": {},
   "source": [
    "##  Scrapped 1856 stocks relevant  reddit posts using reddit API."
   ]
  }
 ],
 "metadata": {
  "kernelspec": {
   "display_name": "Python 3 (ipykernel)",
   "language": "python",
   "name": "python3"
  },
  "language_info": {
   "codemirror_mode": {
    "name": "ipython",
    "version": 3
   },
   "file_extension": ".py",
   "mimetype": "text/x-python",
   "name": "python",
   "nbconvert_exporter": "python",
   "pygments_lexer": "ipython3",
   "version": "3.9.13"
  }
 },
 "nbformat": 4,
 "nbformat_minor": 5
}
